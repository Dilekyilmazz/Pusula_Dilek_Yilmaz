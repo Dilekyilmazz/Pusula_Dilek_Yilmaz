{
 "cells": [
  {
   "cell_type": "code",
   "execution_count": 1,
   "id": "b1cbb7c7-cfde-4ad8-97df-2c1bfefa5679",
   "metadata": {},
   "outputs": [
    {
     "ename": "ModuleNotFoundError",
     "evalue": "No module named 'pandas'",
     "output_type": "error",
     "traceback": [
      "\u001b[31m---------------------------------------------------------------------------\u001b[39m",
      "\u001b[31mModuleNotFoundError\u001b[39m                       Traceback (most recent call last)",
      "\u001b[36mCell\u001b[39m\u001b[36m \u001b[39m\u001b[32mIn[1]\u001b[39m\u001b[32m, line 1\u001b[39m\n\u001b[32m----> \u001b[39m\u001b[32m1\u001b[39m \u001b[38;5;28;01mimport\u001b[39;00m\u001b[38;5;250m \u001b[39m\u001b[34;01mpandas\u001b[39;00m\u001b[38;5;250m \u001b[39m\u001b[38;5;28;01mas\u001b[39;00m\u001b[38;5;250m \u001b[39m\u001b[34;01mpd\u001b[39;00m,\u001b[38;5;250m \u001b[39m\u001b[34;01mnumpy\u001b[39;00m\u001b[38;5;250m \u001b[39m\u001b[38;5;28;01mas\u001b[39;00m\u001b[38;5;250m \u001b[39m\u001b[34;01mnp\u001b[39;00m,\u001b[38;5;250m \u001b[39m\u001b[34;01mmatplotlib\u001b[39;00m\u001b[34;01m.\u001b[39;00m\u001b[34;01mpyplot\u001b[39;00m\u001b[38;5;250m \u001b[39m\u001b[38;5;28;01mas\u001b[39;00m\u001b[38;5;250m \u001b[39m\u001b[34;01mplt\u001b[39;00m,\u001b[38;5;250m \u001b[39m\u001b[34;01mseaborn\u001b[39;00m\u001b[38;5;250m \u001b[39m\u001b[38;5;28;01mas\u001b[39;00m\u001b[38;5;250m \u001b[39m\u001b[34;01msns\u001b[39;00m\n\u001b[32m      2\u001b[39m pd.set_option(\u001b[33m\"\u001b[39m\u001b[33mdisplay.max_colwidth\u001b[39m\u001b[33m\"\u001b[39m, \u001b[32m200\u001b[39m)\n\u001b[32m      4\u001b[39m \u001b[38;5;66;03m# Excel'i oku\u001b[39;00m\n",
      "\u001b[31mModuleNotFoundError\u001b[39m: No module named 'pandas'"
     ]
    }
   ],
   "source": [
    "import pandas as pd, numpy as np, matplotlib.pyplot as plt, seaborn as sns\n",
    "pd.set_option(\"display.max_colwidth\", 200)\n",
    "\n",
    "# Excel'i oku\n",
    "df = pd.read_excel(\"../data/raw/Talent_Academy_Case_DT_2025.xlsx\")\n",
    "\n",
    "# ilk satırlar + temel info\n",
    "display(df.head())\n",
    "print(\"Şekil:\", df.shape)\n",
    "print(df.dtypes)\n"
   ]
  },
  {
   "cell_type": "code",
   "execution_count": 5,
   "id": "24475a40-172f-4922-8465-390e7c2aec21",
   "metadata": {},
   "outputs": [
    {
     "name": "stdout",
     "output_type": "stream",
     "text": [
      "Requirement already satisfied: pandas in c:\\users\\dilek\\desktop\\pusula_dilek_yilmaz\\.venv\\lib\\site-packages (2.3.2)\n",
      "Requirement already satisfied: numpy in c:\\users\\dilek\\desktop\\pusula_dilek_yilmaz\\.venv\\lib\\site-packages (2.3.2)\n",
      "Requirement already satisfied: matplotlib in c:\\users\\dilek\\desktop\\pusula_dilek_yilmaz\\.venv\\lib\\site-packages (3.10.6)\n",
      "Requirement already satisfied: seaborn in c:\\users\\dilek\\desktop\\pusula_dilek_yilmaz\\.venv\\lib\\site-packages (0.13.2)\n",
      "Requirement already satisfied: scikit-learn in c:\\users\\dilek\\desktop\\pusula_dilek_yilmaz\\.venv\\lib\\site-packages (1.7.1)\n",
      "Requirement already satisfied: openpyxl in c:\\users\\dilek\\desktop\\pusula_dilek_yilmaz\\.venv\\lib\\site-packages (3.1.5)\n",
      "Requirement already satisfied: pyarrow in c:\\users\\dilek\\desktop\\pusula_dilek_yilmaz\\.venv\\lib\\site-packages (21.0.0)\n",
      "Requirement already satisfied: python-dateutil>=2.8.2 in c:\\users\\dilek\\desktop\\pusula_dilek_yilmaz\\.venv\\lib\\site-packages (from pandas) (2.9.0.post0)\n",
      "Requirement already satisfied: pytz>=2020.1 in c:\\users\\dilek\\desktop\\pusula_dilek_yilmaz\\.venv\\lib\\site-packages (from pandas) (2025.2)\n",
      "Requirement already satisfied: tzdata>=2022.7 in c:\\users\\dilek\\desktop\\pusula_dilek_yilmaz\\.venv\\lib\\site-packages (from pandas) (2025.2)\n",
      "Requirement already satisfied: contourpy>=1.0.1 in c:\\users\\dilek\\desktop\\pusula_dilek_yilmaz\\.venv\\lib\\site-packages (from matplotlib) (1.3.3)\n",
      "Requirement already satisfied: cycler>=0.10 in c:\\users\\dilek\\desktop\\pusula_dilek_yilmaz\\.venv\\lib\\site-packages (from matplotlib) (0.12.1)\n",
      "Requirement already satisfied: fonttools>=4.22.0 in c:\\users\\dilek\\desktop\\pusula_dilek_yilmaz\\.venv\\lib\\site-packages (from matplotlib) (4.59.2)\n",
      "Requirement already satisfied: kiwisolver>=1.3.1 in c:\\users\\dilek\\desktop\\pusula_dilek_yilmaz\\.venv\\lib\\site-packages (from matplotlib) (1.4.9)\n",
      "Requirement already satisfied: packaging>=20.0 in c:\\users\\dilek\\desktop\\pusula_dilek_yilmaz\\.venv\\lib\\site-packages (from matplotlib) (25.0)\n",
      "Requirement already satisfied: pillow>=8 in c:\\users\\dilek\\desktop\\pusula_dilek_yilmaz\\.venv\\lib\\site-packages (from matplotlib) (11.3.0)\n",
      "Requirement already satisfied: pyparsing>=2.3.1 in c:\\users\\dilek\\desktop\\pusula_dilek_yilmaz\\.venv\\lib\\site-packages (from matplotlib) (3.2.3)\n",
      "Requirement already satisfied: scipy>=1.8.0 in c:\\users\\dilek\\desktop\\pusula_dilek_yilmaz\\.venv\\lib\\site-packages (from scikit-learn) (1.16.1)\n",
      "Requirement already satisfied: joblib>=1.2.0 in c:\\users\\dilek\\desktop\\pusula_dilek_yilmaz\\.venv\\lib\\site-packages (from scikit-learn) (1.5.2)\n",
      "Requirement already satisfied: threadpoolctl>=3.1.0 in c:\\users\\dilek\\desktop\\pusula_dilek_yilmaz\\.venv\\lib\\site-packages (from scikit-learn) (3.6.0)\n",
      "Requirement already satisfied: et-xmlfile in c:\\users\\dilek\\desktop\\pusula_dilek_yilmaz\\.venv\\lib\\site-packages (from openpyxl) (2.0.0)\n",
      "Requirement already satisfied: six>=1.5 in c:\\users\\dilek\\desktop\\pusula_dilek_yilmaz\\.venv\\lib\\site-packages (from python-dateutil>=2.8.2->pandas) (1.17.0)\n"
     ]
    },
    {
     "name": "stderr",
     "output_type": "stream",
     "text": [
      "\n",
      "[notice] A new release of pip is available: 23.2.1 -> 25.2\n",
      "[notice] To update, run: python.exe -m pip install --upgrade pip\n"
     ]
    }
   ],
   "source": [
    "!pip install pandas numpy matplotlib seaborn scikit-learn openpyxl pyarrow\n"
   ]
  },
  {
   "cell_type": "code",
   "execution_count": 6,
   "id": "f540652d-59e1-423e-b291-df0000ce0cf1",
   "metadata": {},
   "outputs": [
    {
     "name": "stdout",
     "output_type": "stream",
     "text": [
      "Pandas version: 2.3.2\n"
     ]
    }
   ],
   "source": [
    "import pandas as pd\n",
    "print(\"Pandas version:\", pd.__version__)\n"
   ]
  },
  {
   "cell_type": "code",
   "execution_count": 7,
   "id": "d3297f94-6516-463e-9464-ee4719c058c6",
   "metadata": {},
   "outputs": [
    {
     "data": {
      "text/html": [
       "<div>\n",
       "<style scoped>\n",
       "    .dataframe tbody tr th:only-of-type {\n",
       "        vertical-align: middle;\n",
       "    }\n",
       "\n",
       "    .dataframe tbody tr th {\n",
       "        vertical-align: top;\n",
       "    }\n",
       "\n",
       "    .dataframe thead th {\n",
       "        text-align: right;\n",
       "    }\n",
       "</style>\n",
       "<table border=\"1\" class=\"dataframe\">\n",
       "  <thead>\n",
       "    <tr style=\"text-align: right;\">\n",
       "      <th></th>\n",
       "      <th>HastaNo</th>\n",
       "      <th>Yas</th>\n",
       "      <th>Cinsiyet</th>\n",
       "      <th>KanGrubu</th>\n",
       "      <th>Uyruk</th>\n",
       "      <th>KronikHastalik</th>\n",
       "      <th>Bolum</th>\n",
       "      <th>Alerji</th>\n",
       "      <th>Tanilar</th>\n",
       "      <th>TedaviAdi</th>\n",
       "      <th>TedaviSuresi</th>\n",
       "      <th>UygulamaYerleri</th>\n",
       "      <th>UygulamaSuresi</th>\n",
       "    </tr>\n",
       "  </thead>\n",
       "  <tbody>\n",
       "    <tr>\n",
       "      <th>0</th>\n",
       "      <td>145134</td>\n",
       "      <td>60</td>\n",
       "      <td>Kadın</td>\n",
       "      <td>0 Rh+</td>\n",
       "      <td>Türkiye</td>\n",
       "      <td>Becker Musküler Distrofisi, Hiportiroidizm, Kalp yetmezliği</td>\n",
       "      <td>Fiziksel Tıp Ve Rehabilitasyon,Solunum Merkezi</td>\n",
       "      <td>TOZ</td>\n",
       "      <td>Ayak bileği ve ayağın yüzeysel yaralanması</td>\n",
       "      <td>Ayak Bileği</td>\n",
       "      <td>5 Seans</td>\n",
       "      <td>Ayak Bileği</td>\n",
       "      <td>20 Dakika</td>\n",
       "    </tr>\n",
       "    <tr>\n",
       "      <th>1</th>\n",
       "      <td>145135</td>\n",
       "      <td>28</td>\n",
       "      <td>Erkek</td>\n",
       "      <td>0 Rh+</td>\n",
       "      <td>Türkiye</td>\n",
       "      <td>Duchenne Musküler Distrofisi, Myastenia gravis, Becker Musküler Distrofisi, Hipertansiyon</td>\n",
       "      <td>Fiziksel Tıp Ve Rehabilitasyon,Solunum Merkezi</td>\n",
       "      <td>NaN</td>\n",
       "      <td>Omuzun darbe sendromu,DORSALJİ, DİĞER, SERVİKOTORASİK BÖLGE</td>\n",
       "      <td>Dorsalji -Boyun+trapez+skapular</td>\n",
       "      <td>15 Seans</td>\n",
       "      <td>Boyun</td>\n",
       "      <td>20 Dakika</td>\n",
       "    </tr>\n",
       "    <tr>\n",
       "      <th>2</th>\n",
       "      <td>145135</td>\n",
       "      <td>28</td>\n",
       "      <td>Erkek</td>\n",
       "      <td>0 Rh+</td>\n",
       "      <td>Türkiye</td>\n",
       "      <td>Duchenne Musküler Distrofisi, Myastenia gravis, Becker Musküler Distrofisi, Hipertansiyon</td>\n",
       "      <td>Fiziksel Tıp Ve Rehabilitasyon,Solunum Merkezi</td>\n",
       "      <td>NaN</td>\n",
       "      <td>Omuzun darbe sendromu,DORSALJİ, DİĞER, SERVİKOTORASİK BÖLGE</td>\n",
       "      <td>Dorsalji -Boyun+trapez+skapular</td>\n",
       "      <td>15 Seans</td>\n",
       "      <td>Boyun,Sırt</td>\n",
       "      <td>20 Dakika</td>\n",
       "    </tr>\n",
       "    <tr>\n",
       "      <th>3</th>\n",
       "      <td>145135</td>\n",
       "      <td>28</td>\n",
       "      <td>Erkek</td>\n",
       "      <td>0 Rh+</td>\n",
       "      <td>Türkiye</td>\n",
       "      <td>Duchenne Musküler Distrofisi, Myastenia gravis, Becker Musküler Distrofisi, Hipertansiyon</td>\n",
       "      <td>Fiziksel Tıp Ve Rehabilitasyon,Solunum Merkezi</td>\n",
       "      <td>NaN</td>\n",
       "      <td>Omuzun darbe sendromu,DORSALJİ, DİĞER, SERVİKOTORASİK BÖLGE</td>\n",
       "      <td>Dorsalji -Boyun+trapez+skapular</td>\n",
       "      <td>15 Seans</td>\n",
       "      <td>Boyun</td>\n",
       "      <td>5 Dakika</td>\n",
       "    </tr>\n",
       "    <tr>\n",
       "      <th>4</th>\n",
       "      <td>145135</td>\n",
       "      <td>28</td>\n",
       "      <td>Erkek</td>\n",
       "      <td>0 Rh+</td>\n",
       "      <td>Türkiye</td>\n",
       "      <td>Duchenne Musküler Distrofisi, Myastenia gravis, Becker Musküler Distrofisi, Hipertansiyon</td>\n",
       "      <td>Fiziksel Tıp Ve Rehabilitasyon,Solunum Merkezi</td>\n",
       "      <td>NaN</td>\n",
       "      <td>Omuzun darbe sendromu,DORSALJİ, DİĞER, SERVİKOTORASİK BÖLGE</td>\n",
       "      <td>Dorsalji -Boyun+trapez+skapular</td>\n",
       "      <td>15 Seans</td>\n",
       "      <td>Boyun,Sırt</td>\n",
       "      <td>20 Dakika</td>\n",
       "    </tr>\n",
       "  </tbody>\n",
       "</table>\n",
       "</div>"
      ],
      "text/plain": [
       "   HastaNo  Yas Cinsiyet KanGrubu    Uyruk  \\\n",
       "0   145134   60    Kadın    0 Rh+  Türkiye   \n",
       "1   145135   28    Erkek    0 Rh+  Türkiye   \n",
       "2   145135   28    Erkek    0 Rh+  Türkiye   \n",
       "3   145135   28    Erkek    0 Rh+  Türkiye   \n",
       "4   145135   28    Erkek    0 Rh+  Türkiye   \n",
       "\n",
       "                                                                              KronikHastalik  \\\n",
       "0                                Becker Musküler Distrofisi, Hiportiroidizm, Kalp yetmezliği   \n",
       "1  Duchenne Musküler Distrofisi, Myastenia gravis, Becker Musküler Distrofisi, Hipertansiyon   \n",
       "2  Duchenne Musküler Distrofisi, Myastenia gravis, Becker Musküler Distrofisi, Hipertansiyon   \n",
       "3  Duchenne Musküler Distrofisi, Myastenia gravis, Becker Musküler Distrofisi, Hipertansiyon   \n",
       "4  Duchenne Musküler Distrofisi, Myastenia gravis, Becker Musküler Distrofisi, Hipertansiyon   \n",
       "\n",
       "                                            Bolum Alerji  \\\n",
       "0  Fiziksel Tıp Ve Rehabilitasyon,Solunum Merkezi    TOZ   \n",
       "1  Fiziksel Tıp Ve Rehabilitasyon,Solunum Merkezi    NaN   \n",
       "2  Fiziksel Tıp Ve Rehabilitasyon,Solunum Merkezi    NaN   \n",
       "3  Fiziksel Tıp Ve Rehabilitasyon,Solunum Merkezi    NaN   \n",
       "4  Fiziksel Tıp Ve Rehabilitasyon,Solunum Merkezi    NaN   \n",
       "\n",
       "                                                       Tanilar  \\\n",
       "0                   Ayak bileği ve ayağın yüzeysel yaralanması   \n",
       "1  Omuzun darbe sendromu,DORSALJİ, DİĞER, SERVİKOTORASİK BÖLGE   \n",
       "2  Omuzun darbe sendromu,DORSALJİ, DİĞER, SERVİKOTORASİK BÖLGE   \n",
       "3  Omuzun darbe sendromu,DORSALJİ, DİĞER, SERVİKOTORASİK BÖLGE   \n",
       "4  Omuzun darbe sendromu,DORSALJİ, DİĞER, SERVİKOTORASİK BÖLGE   \n",
       "\n",
       "                         TedaviAdi TedaviSuresi UygulamaYerleri UygulamaSuresi  \n",
       "0                      Ayak Bileği      5 Seans     Ayak Bileği      20 Dakika  \n",
       "1  Dorsalji -Boyun+trapez+skapular     15 Seans           Boyun      20 Dakika  \n",
       "2  Dorsalji -Boyun+trapez+skapular     15 Seans      Boyun,Sırt      20 Dakika  \n",
       "3  Dorsalji -Boyun+trapez+skapular     15 Seans           Boyun       5 Dakika  \n",
       "4  Dorsalji -Boyun+trapez+skapular     15 Seans      Boyun,Sırt      20 Dakika  "
      ]
     },
     "metadata": {},
     "output_type": "display_data"
    },
    {
     "name": "stdout",
     "output_type": "stream",
     "text": [
      "Şekil: (2235, 13)\n",
      "HastaNo             int64\n",
      "Yas                 int64\n",
      "Cinsiyet           object\n",
      "KanGrubu           object\n",
      "Uyruk              object\n",
      "KronikHastalik     object\n",
      "Bolum              object\n",
      "Alerji             object\n",
      "Tanilar            object\n",
      "TedaviAdi          object\n",
      "TedaviSuresi       object\n",
      "UygulamaYerleri    object\n",
      "UygulamaSuresi     object\n",
      "dtype: object\n"
     ]
    }
   ],
   "source": [
    "import pandas as pd, numpy as np, matplotlib.pyplot as plt, seaborn as sns\n",
    "pd.set_option(\"display.max_colwidth\", 200)\n",
    "\n",
    "df = pd.read_excel(\"../data/raw/Talent_Academy_Case_DT_2025.xlsx\")  # gerekirse: pip install openpyxl\n",
    "display(df.head())\n",
    "print(\"Şekil:\", df.shape)\n",
    "print(df.dtypes)\n"
   ]
  },
  {
   "cell_type": "code",
   "execution_count": 8,
   "id": "21abc0e3-1325-468b-aac0-3c29ce520910",
   "metadata": {},
   "outputs": [
    {
     "name": "stdout",
     "output_type": "stream",
     "text": [
      "Alerji             944\n",
      "KanGrubu           675\n",
      "KronikHastalik     611\n",
      "UygulamaYerleri    221\n",
      "Cinsiyet           169\n",
      "Tanilar             75\n",
      "Bolum               11\n",
      "HastaNo              0\n",
      "Yas                  0\n",
      "Uyruk                0\n",
      "TedaviAdi            0\n",
      "TedaviSuresi         0\n",
      "UygulamaSuresi       0\n",
      "dtype: int64\n"
     ]
    }
   ],
   "source": [
    "missing = df.isna().sum().sort_values(ascending=False)\n",
    "print(missing)\n"
   ]
  },
  {
   "cell_type": "code",
   "execution_count": 10,
   "id": "ed0cd034-d66d-4ba0-8e1e-e731d3d08f99",
   "metadata": {},
   "outputs": [
    {
     "data": {
      "text/html": [
       "<div>\n",
       "<style scoped>\n",
       "    .dataframe tbody tr th:only-of-type {\n",
       "        vertical-align: middle;\n",
       "    }\n",
       "\n",
       "    .dataframe tbody tr th {\n",
       "        vertical-align: top;\n",
       "    }\n",
       "\n",
       "    .dataframe thead th {\n",
       "        text-align: right;\n",
       "    }\n",
       "</style>\n",
       "<table border=\"1\" class=\"dataframe\">\n",
       "  <thead>\n",
       "    <tr style=\"text-align: right;\">\n",
       "      <th></th>\n",
       "      <th>TedaviSuresi</th>\n",
       "      <th>TedaviSuresi_clean</th>\n",
       "    </tr>\n",
       "  </thead>\n",
       "  <tbody>\n",
       "    <tr>\n",
       "      <th>0</th>\n",
       "      <td>5 Seans</td>\n",
       "      <td>5.0</td>\n",
       "    </tr>\n",
       "    <tr>\n",
       "      <th>1</th>\n",
       "      <td>15 Seans</td>\n",
       "      <td>15.0</td>\n",
       "    </tr>\n",
       "    <tr>\n",
       "      <th>2</th>\n",
       "      <td>15 Seans</td>\n",
       "      <td>15.0</td>\n",
       "    </tr>\n",
       "    <tr>\n",
       "      <th>3</th>\n",
       "      <td>15 Seans</td>\n",
       "      <td>15.0</td>\n",
       "    </tr>\n",
       "    <tr>\n",
       "      <th>4</th>\n",
       "      <td>15 Seans</td>\n",
       "      <td>15.0</td>\n",
       "    </tr>\n",
       "    <tr>\n",
       "      <th>5</th>\n",
       "      <td>15 Seans</td>\n",
       "      <td>15.0</td>\n",
       "    </tr>\n",
       "    <tr>\n",
       "      <th>6</th>\n",
       "      <td>10 Seans</td>\n",
       "      <td>10.0</td>\n",
       "    </tr>\n",
       "    <tr>\n",
       "      <th>7</th>\n",
       "      <td>10 Seans</td>\n",
       "      <td>10.0</td>\n",
       "    </tr>\n",
       "    <tr>\n",
       "      <th>8</th>\n",
       "      <td>10 Seans</td>\n",
       "      <td>10.0</td>\n",
       "    </tr>\n",
       "    <tr>\n",
       "      <th>9</th>\n",
       "      <td>15 Seans</td>\n",
       "      <td>15.0</td>\n",
       "    </tr>\n",
       "  </tbody>\n",
       "</table>\n",
       "</div>"
      ],
      "text/plain": [
       "  TedaviSuresi  TedaviSuresi_clean\n",
       "0      5 Seans                 5.0\n",
       "1     15 Seans                15.0\n",
       "2     15 Seans                15.0\n",
       "3     15 Seans                15.0\n",
       "4     15 Seans                15.0\n",
       "5     15 Seans                15.0\n",
       "6     10 Seans                10.0\n",
       "7     10 Seans                10.0\n",
       "8     10 Seans                10.0\n",
       "9     15 Seans                15.0"
      ]
     },
     "execution_count": 10,
     "metadata": {},
     "output_type": "execute_result"
    }
   ],
   "source": [
    "df[\"TedaviSuresi_clean\"] = df[\"TedaviSuresi\"].str.extract(r\"(\\d+)\").astype(float)\n",
    "df[[\"TedaviSuresi\", \"TedaviSuresi_clean\"]].head(10)\n",
    "\n"
   ]
  },
  {
   "cell_type": "code",
   "execution_count": 11,
   "id": "58e8e474-81f1-4c82-ba46-1269786c76ca",
   "metadata": {},
   "outputs": [
    {
     "data": {
      "image/png": "[encoded data removed]",
      "text/plain": [
       "<Figure size 640x480 with 1 Axes>"
      ]
     },
     "metadata": {},
     "output_type": "display_data"
    },
    {
     "name": "stdout",
     "output_type": "stream",
     "text": [
      "count    2235.000000\n",
      "mean       14.570917\n",
      "std         3.725322\n",
      "min         1.000000\n",
      "25%        15.000000\n",
      "50%        15.000000\n",
      "75%        15.000000\n",
      "max        37.000000\n",
      "Name: TedaviSuresi_clean, dtype: float64\n"
     ]
    }
   ],
   "source": [
    "# Histogram\n",
    "df[\"TedaviSuresi_clean\"].hist(bins=30)\n",
    "plt.title(\"TedaviSuresi (Seans Sayısı) Dağılımı\")\n",
    "plt.xlabel(\"Seans Sayısı\")\n",
    "plt.ylabel(\"Frekans\")\n",
    "plt.show()\n",
    "\n",
    "# İstatistiksel özet\n",
    "print(df[\"TedaviSuresi_clean\"].describe())\n"
   ]
  },
  {
   "cell_type": "code",
   "execution_count": 12,
   "id": "aebdc4d3-6de3-4c68-b5f8-c497532d0861",
   "metadata": {},
   "outputs": [
    {
     "data": {
      "image/png": "[encoded data removed]",
      "text/plain": [
       "<Figure size 640x480 with 2 Axes>"
      ]
     },
     "metadata": {},
     "output_type": "display_data"
    }
   ],
   "source": [
    "num_cols = [\"Yas\", \"UygulamaSuresi\", \"TedaviSuresi_clean\"]\n",
    "num_cols = [c for c in num_cols if c in df.columns]\n",
    "\n",
    "sns.heatmap(df[num_cols].corr(numeric_only=True), annot=True, cmap=\"Blues\")\n",
    "plt.title(\"Sayısal Değişkenler Korelasyonu\")\n",
    "plt.show()\n"
   ]
  },
  {
   "cell_type": "code",
   "execution_count": 13,
   "id": "8ef291f0-ace6-4a10-8967-a364fd4e62cc",
   "metadata": {},
   "outputs": [
    {
     "name": "stdout",
     "output_type": "stream",
     "text": [
      "\n",
      "--- Cinsiyet ---\n",
      "Cinsiyet\n",
      "Kadın    1274\n",
      "Erkek     792\n",
      "NaN       169\n",
      "Name: count, dtype: int64\n",
      "\n",
      "--- KanGrubu ---\n",
      "KanGrubu\n",
      "NaN       675\n",
      "0 Rh+     579\n",
      "A Rh+     540\n",
      "B Rh+     206\n",
      "AB Rh+     80\n",
      "B Rh-      68\n",
      "A Rh-      53\n",
      "0 Rh-      26\n",
      "AB Rh-      8\n",
      "Name: count, dtype: int64\n",
      "\n",
      "--- Uyruk ---\n",
      "Uyruk\n",
      "Türkiye       2173\n",
      "Tokelau         27\n",
      "Arnavutluk      13\n",
      "Azerbaycan      12\n",
      "Libya           10\n",
      "Name: count, dtype: int64\n",
      "\n",
      "--- Bolum ---\n",
      "Bolum\n",
      "Fiziksel Tıp Ve Rehabilitasyon,Solunum Merkezi    2045\n",
      "Ortopedi Ve Travmatoloji                            88\n",
      "İç Hastalıkları                                     32\n",
      "Nöroloji                                            17\n",
      "Kardiyoloji                                         11\n",
      "NaN                                                 11\n",
      "Göğüs Hastalıkları                                   8\n",
      "Laboratuar                                           7\n",
      "Genel Cerrahi                                        6\n",
      "Tıbbi Onkoloji                                       6\n",
      "Name: count, dtype: int64\n",
      "\n",
      "--- TedaviAdi ---\n",
      "TedaviAdi\n",
      "Dorsalji -Boyun+trapez             231\n",
      "İV DİSK BOZUKLUĞU-BEL              200\n",
      "Dorsalji 1                         140\n",
      "Dorsalji-Bel                       120\n",
      "Gonartroz-Meniskopati               95\n",
      "SAĞ OMUZ İMPİNGEMENT                70\n",
      "Boyun-Trapezz                       60\n",
      "Dorsalji-Dorsal                     56\n",
      "Sol omuz İmpingement                50\n",
      "Alt ekstremite atrofi-Bilateral     37\n",
      "Name: count, dtype: int64\n"
     ]
    }
   ],
   "source": [
    "for c in [\"Cinsiyet\",\"KanGrubu\",\"Uyruk\",\"Bolum\",\"TedaviAdi\"]:\n",
    "    if c in df.columns:\n",
    "        print(f\"\\n--- {c} ---\")\n",
    "        print(df[c].value_counts(dropna=False).head(10))\n"
   ]
  },
  {
   "cell_type": "code",
   "execution_count": 14,
   "id": "343e9557-4ab9-44c3-9495-abdd4bb5d419",
   "metadata": {},
   "outputs": [
    {
     "name": "stdout",
     "output_type": "stream",
     "text": [
      "\n",
      "Top 10 etiket — KronikHastalik\n",
      "[('Aritmi', 395), ('Hiportiroidizm', 383), ('Limb-Girdle Musküler Distrofi', 379), ('Astım', 351), ('Hipertiroidizm', 327), ('Myastenia gravis', 316), ('Diyabet', 308), ('Duchenne Musküler Distrofisi', 307), ('Fascioscapulohumeral Distrofi', 304), ('Kalp yetmezliği', 301)]\n",
      "\n",
      "Top 10 etiket — Alerji\n",
      "[('Polen', 330), ('POLEN', 170), ('Toz', 138), ('TOZ', 121), ('NOVALGIN', 110), ('ARVELES', 102), ('CORASPIN', 102), ('Sucuk', 96), ('Yer Fıstığı', 83), ('SUCUK', 78)]\n",
      "\n",
      "Top 10 etiket — Tanilar\n",
      "[('DORSALJİ', 695), ('DİĞER', 676), ('tanımlanmamış', 408), ('Omuzun darbe sendromu', 272), ('İntervertebral disk bozuklukları', 269), ('LUMBOSAKRAL BÖLGE', 265), ('SERVİKOTORASİK BÖLGE', 211), ('SERVİKAL BÖLGE', 148), ('Eklem ağrısı', 113), ('Dorsalji', 105)]\n",
      "\n",
      "Top 10 etiket — UygulamaYerleri\n",
      "[('Bel', 543), ('Boyun', 388), ('Diz', 177), ('Sol Omuz Bölgesi', 140), ('Sağ Omuz Bölgesi', 132), ('Sırt', 96), ('Sol El Bilek Bölgesi', 86), ('Sağ Ayak Bileği Bölgesi', 68), ('Sol Ayak Bileği Bölgesi', 65), ('Tüm Vücut Bölgesi', 62)]\n"
     ]
    }
   ],
   "source": [
    "from collections import Counter\n",
    "\n",
    "def split_multi(x):\n",
    "    if pd.isna(x): return []\n",
    "    return [p.strip() for p in str(x).replace(\";\",\",\").split(\",\") if p.strip()]\n",
    "\n",
    "for col in [\"KronikHastalik\",\"Alerji\",\"Tanilar\",\"UygulamaYerleri\"]:\n",
    "    if col in df.columns:\n",
    "        s = df[col].apply(split_multi)\n",
    "        counter = Counter([z for row in s for z in row])\n",
    "        print(f\"\\nTop 10 etiket — {col}\")\n",
    "        print(counter.most_common(10))\n"
   ]
  },
  {
   "cell_type": "code",
   "execution_count": 16,
   "id": "d09c26af-1593-4cb3-bad1-e955a897f913",
   "metadata": {},
   "outputs": [],
   "source": [
    "import os\n",
    "from collections import Counter\n",
    "\n",
    "os.makedirs(\"../plots\", exist_ok=True)\n",
    "\n",
    "def split_multi(x):\n",
    "    if pd.isna(x): return []\n",
    "    return [p.strip() for p in str(x).replace(\";\",\",\").split(\",\") if p.strip()]\n",
    "\n",
    "def save_all_plots(df):\n",
    "    # 1) Hedef değişken histogramı\n",
    "    df[\"TedaviSuresi_clean\"].hist(bins=30)\n",
    "    plt.title(\"TedaviSuresi (Seans) Dağılımı\")\n",
    "    plt.xlabel(\"Seans Sayısı\"); plt.ylabel(\"Frekans\")\n",
    "    plt.savefig(\"../plots/tedavi_suresi_hist.png\", bbox_inches=\"tight\"); plt.close()\n",
    "    \n",
    "    # 2) Sayısal korelasyon heatmap\n",
    "    num_cols = [c for c in [\"Yas\",\"UygulamaSuresi\",\"TedaviSuresi_clean\"] if c in df.columns]\n",
    "    if len(num_cols) >= 2:\n",
    "        sns.heatmap(df[num_cols].corr(numeric_only=True), annot=True, cmap=\"Blues\")\n",
    "        plt.title(\"Sayısal Korelasyon Isı Haritası\")\n",
    "        plt.savefig(\"../plots/num_corr_heatmap.png\", bbox_inches=\"tight\"); plt.close()\n",
    "    \n",
    "    # 3) Eksik değer bar grafiği\n",
    "    missing = df.isna().sum().sort_values(ascending=True)\n",
    "    missing = missing[missing > 0]\n",
    "    if not missing.empty:\n",
    "        missing.plot(kind=\"barh\")\n",
    "        plt.title(\"Eksik Değer Sayıları\")\n",
    "        plt.xlabel(\"Adet\")\n",
    "        plt.savefig(\"../plots/missing_counts.png\", bbox_inches=\"tight\"); plt.close()\n",
    "    \n",
    "    # 4) Kategorik değişkenlerin en sık 10 değeri\n",
    "    for col in [\"Cinsiyet\",\"KanGrubu\",\"Bolum\",\"TedaviAdi\"]:\n",
    "        if col in df.columns:\n",
    "            vc = df[col].value_counts().head(10)\n",
    "            vc.plot(kind=\"bar\")\n",
    "            plt.title(f\"{col} — En Sık 10 Değer\")\n",
    "            plt.xlabel(col); plt.ylabel(\"Adet\")\n",
    "            plt.tight_layout()\n",
    "            plt.savefig(f\"../plots/bar_{col}_top10.png\", bbox_inches=\"tight\"); plt.close()\n",
    "    \n",
    "    # 5) Multi-label sütunların en sık 10 etiketi\n",
    "    for col in [\"KronikHastalik\",\"Alerji\",\"Tanilar\",\"UygulamaYerleri\"]:\n",
    "        if col in df.columns:\n",
    "            s = df[col].apply(split_multi)\n",
    "            counter = Counter([z for row in s for z in row])\n",
    "            top = dict(counter.most_common(10))\n",
    "            if top:\n",
    "                pd.Series(top).plot(kind=\"bar\")\n",
    "                plt.title(f\"{col} — En Sık 10 Etiket\")\n",
    "                plt.xlabel(col); plt.ylabel(\"Adet\")\n",
    "                plt.tight_layout()\n",
    "                plt.savefig(f\"../plots/ml_{col}_top10.png\", bbox_inches=\"tight\"); plt.close()\n",
    "\n",
    "# Fonksiyonu çağır\n",
    "save_all_plots(df)\n"
   ]
  },
  {
   "cell_type": "code",
   "execution_count": 17,
   "id": "94769200-dcc8-4899-aaff-e18707b00218",
   "metadata": {},
   "outputs": [
    {
     "data": {
      "text/plain": [
       "count    2235.000000\n",
       "mean       47.327069\n",
       "std        15.208634\n",
       "min         2.000000\n",
       "25%        38.000000\n",
       "50%        46.000000\n",
       "75%        56.000000\n",
       "max        92.000000\n",
       "Name: Yas, dtype: float64"
      ]
     },
     "execution_count": 17,
     "metadata": {},
     "output_type": "execute_result"
    }
   ],
   "source": [
    "df[\"Yas\"].describe()\n"
   ]
  },
  {
   "cell_type": "code",
   "execution_count": 18,
   "id": "dd47ff2e-8461-46a9-a852-ba4eddcf6d0f",
   "metadata": {},
   "outputs": [
    {
     "ename": "FileNotFoundError",
     "evalue": "[Errno 2] No such file or directory: 'artifacts/clean_dataset.parquet'",
     "output_type": "error",
     "traceback": [
      "\u001b[31m---------------------------------------------------------------------------\u001b[39m",
      "\u001b[31mFileNotFoundError\u001b[39m                         Traceback (most recent call last)",
      "\u001b[36mCell\u001b[39m\u001b[36m \u001b[39m\u001b[32mIn[18]\u001b[39m\u001b[32m, line 4\u001b[39m\n\u001b[32m      1\u001b[39m \u001b[38;5;28;01mimport\u001b[39;00m\u001b[38;5;250m \u001b[39m\u001b[34;01mpandas\u001b[39;00m\u001b[38;5;250m \u001b[39m\u001b[38;5;28;01mas\u001b[39;00m\u001b[38;5;250m \u001b[39m\u001b[34;01mpd\u001b[39;00m,\u001b[38;5;250m \u001b[39m\u001b[34;01mre\u001b[39;00m\n\u001b[32m      3\u001b[39m \u001b[38;5;66;03m# 1) Temiz veri dosyasını oku\u001b[39;00m\n\u001b[32m----> \u001b[39m\u001b[32m4\u001b[39m dfc = \u001b[43mpd\u001b[49m\u001b[43m.\u001b[49m\u001b[43mread_parquet\u001b[49m\u001b[43m(\u001b[49m\u001b[33;43m\"\u001b[39;49m\u001b[33;43martifacts/clean_dataset.parquet\u001b[39;49m\u001b[33;43m\"\u001b[39;49m\u001b[43m)\u001b[49m\n\u001b[32m      6\u001b[39m \u001b[38;5;28mprint\u001b[39m(\u001b[33m\"\u001b[39m\u001b[33m▶ TEMİZ VERİ ŞEKİLİ:\u001b[39m\u001b[33m\"\u001b[39m, dfc.shape)            \u001b[38;5;66;03m# (satır, sütun)\u001b[39;00m\n\u001b[32m      7\u001b[39m \u001b[38;5;28mprint\u001b[39m(\u001b[33m\"\u001b[39m\u001b[33m▶ SONDAN 5 KOLON:\u001b[39m\u001b[33m\"\u001b[39m, \u001b[38;5;28mlist\u001b[39m(dfc.columns[-\u001b[32m5\u001b[39m:]))  \u001b[38;5;66;03m# son kolonlar\u001b[39;00m\n",
      "\u001b[36mFile \u001b[39m\u001b[32m~\\Desktop\\Pusula_Dilek_Yilmaz\\.venv\\Lib\\site-packages\\pandas\\io\\parquet.py:669\u001b[39m, in \u001b[36mread_parquet\u001b[39m\u001b[34m(path, engine, columns, storage_options, use_nullable_dtypes, dtype_backend, filesystem, filters, **kwargs)\u001b[39m\n\u001b[32m    666\u001b[39m     use_nullable_dtypes = \u001b[38;5;28;01mFalse\u001b[39;00m\n\u001b[32m    667\u001b[39m check_dtype_backend(dtype_backend)\n\u001b[32m--> \u001b[39m\u001b[32m669\u001b[39m \u001b[38;5;28;01mreturn\u001b[39;00m \u001b[43mimpl\u001b[49m\u001b[43m.\u001b[49m\u001b[43mread\u001b[49m\u001b[43m(\u001b[49m\n\u001b[32m    670\u001b[39m \u001b[43m    \u001b[49m\u001b[43mpath\u001b[49m\u001b[43m,\u001b[49m\n\u001b[32m    671\u001b[39m \u001b[43m    \u001b[49m\u001b[43mcolumns\u001b[49m\u001b[43m=\u001b[49m\u001b[43mcolumns\u001b[49m\u001b[43m,\u001b[49m\n\u001b[32m    672\u001b[39m \u001b[43m    \u001b[49m\u001b[43mfilters\u001b[49m\u001b[43m=\u001b[49m\u001b[43mfilters\u001b[49m\u001b[43m,\u001b[49m\n\u001b[32m    673\u001b[39m \u001b[43m    \u001b[49m\u001b[43mstorage_options\u001b[49m\u001b[43m=\u001b[49m\u001b[43mstorage_options\u001b[49m\u001b[43m,\u001b[49m\n\u001b[32m    674\u001b[39m \u001b[43m    \u001b[49m\u001b[43muse_nullable_dtypes\u001b[49m\u001b[43m=\u001b[49m\u001b[43muse_nullable_dtypes\u001b[49m\u001b[43m,\u001b[49m\n\u001b[32m    675\u001b[39m \u001b[43m    \u001b[49m\u001b[43mdtype_backend\u001b[49m\u001b[43m=\u001b[49m\u001b[43mdtype_backend\u001b[49m\u001b[43m,\u001b[49m\n\u001b[32m    676\u001b[39m \u001b[43m    \u001b[49m\u001b[43mfilesystem\u001b[49m\u001b[43m=\u001b[49m\u001b[43mfilesystem\u001b[49m\u001b[43m,\u001b[49m\n\u001b[32m    677\u001b[39m \u001b[43m    \u001b[49m\u001b[43m*\u001b[49m\u001b[43m*\u001b[49m\u001b[43mkwargs\u001b[49m\u001b[43m,\u001b[49m\n\u001b[32m    678\u001b[39m \u001b[43m\u001b[49m\u001b[43m)\u001b[49m\n",
      "\u001b[36mFile \u001b[39m\u001b[32m~\\Desktop\\Pusula_Dilek_Yilmaz\\.venv\\Lib\\site-packages\\pandas\\io\\parquet.py:258\u001b[39m, in \u001b[36mPyArrowImpl.read\u001b[39m\u001b[34m(self, path, columns, filters, use_nullable_dtypes, dtype_backend, storage_options, filesystem, **kwargs)\u001b[39m\n\u001b[32m    256\u001b[39m \u001b[38;5;28;01mif\u001b[39;00m manager == \u001b[33m\"\u001b[39m\u001b[33marray\u001b[39m\u001b[33m\"\u001b[39m:\n\u001b[32m    257\u001b[39m     to_pandas_kwargs[\u001b[33m\"\u001b[39m\u001b[33msplit_blocks\u001b[39m\u001b[33m\"\u001b[39m] = \u001b[38;5;28;01mTrue\u001b[39;00m\n\u001b[32m--> \u001b[39m\u001b[32m258\u001b[39m path_or_handle, handles, filesystem = \u001b[43m_get_path_or_handle\u001b[49m\u001b[43m(\u001b[49m\n\u001b[32m    259\u001b[39m \u001b[43m    \u001b[49m\u001b[43mpath\u001b[49m\u001b[43m,\u001b[49m\n\u001b[32m    260\u001b[39m \u001b[43m    \u001b[49m\u001b[43mfilesystem\u001b[49m\u001b[43m,\u001b[49m\n\u001b[32m    261\u001b[39m \u001b[43m    \u001b[49m\u001b[43mstorage_options\u001b[49m\u001b[43m=\u001b[49m\u001b[43mstorage_options\u001b[49m\u001b[43m,\u001b[49m\n\u001b[32m    262\u001b[39m \u001b[43m    \u001b[49m\u001b[43mmode\u001b[49m\u001b[43m=\u001b[49m\u001b[33;43m\"\u001b[39;49m\u001b[33;43mrb\u001b[39;49m\u001b[33;43m\"\u001b[39;49m\u001b[43m,\u001b[49m\n\u001b[32m    263\u001b[39m \u001b[43m\u001b[49m\u001b[43m)\u001b[49m\n\u001b[32m    264\u001b[39m \u001b[38;5;28;01mtry\u001b[39;00m:\n\u001b[32m    265\u001b[39m     pa_table = \u001b[38;5;28mself\u001b[39m.api.parquet.read_table(\n\u001b[32m    266\u001b[39m         path_or_handle,\n\u001b[32m    267\u001b[39m         columns=columns,\n\u001b[32m   (...)\u001b[39m\u001b[32m    270\u001b[39m         **kwargs,\n\u001b[32m    271\u001b[39m     )\n",
      "\u001b[36mFile \u001b[39m\u001b[32m~\\Desktop\\Pusula_Dilek_Yilmaz\\.venv\\Lib\\site-packages\\pandas\\io\\parquet.py:141\u001b[39m, in \u001b[36m_get_path_or_handle\u001b[39m\u001b[34m(path, fs, storage_options, mode, is_dir)\u001b[39m\n\u001b[32m    131\u001b[39m handles = \u001b[38;5;28;01mNone\u001b[39;00m\n\u001b[32m    132\u001b[39m \u001b[38;5;28;01mif\u001b[39;00m (\n\u001b[32m    133\u001b[39m     \u001b[38;5;129;01mnot\u001b[39;00m fs\n\u001b[32m    134\u001b[39m     \u001b[38;5;129;01mand\u001b[39;00m \u001b[38;5;129;01mnot\u001b[39;00m is_dir\n\u001b[32m   (...)\u001b[39m\u001b[32m    139\u001b[39m     \u001b[38;5;66;03m# fsspec resources can also point to directories\u001b[39;00m\n\u001b[32m    140\u001b[39m     \u001b[38;5;66;03m# this branch is used for example when reading from non-fsspec URLs\u001b[39;00m\n\u001b[32m--> \u001b[39m\u001b[32m141\u001b[39m     handles = \u001b[43mget_handle\u001b[49m\u001b[43m(\u001b[49m\n\u001b[32m    142\u001b[39m \u001b[43m        \u001b[49m\u001b[43mpath_or_handle\u001b[49m\u001b[43m,\u001b[49m\u001b[43m \u001b[49m\u001b[43mmode\u001b[49m\u001b[43m,\u001b[49m\u001b[43m \u001b[49m\u001b[43mis_text\u001b[49m\u001b[43m=\u001b[49m\u001b[38;5;28;43;01mFalse\u001b[39;49;00m\u001b[43m,\u001b[49m\u001b[43m \u001b[49m\u001b[43mstorage_options\u001b[49m\u001b[43m=\u001b[49m\u001b[43mstorage_options\u001b[49m\n\u001b[32m    143\u001b[39m \u001b[43m    \u001b[49m\u001b[43m)\u001b[49m\n\u001b[32m    144\u001b[39m     fs = \u001b[38;5;28;01mNone\u001b[39;00m\n\u001b[32m    145\u001b[39m     path_or_handle = handles.handle\n",
      "\u001b[36mFile \u001b[39m\u001b[32m~\\Desktop\\Pusula_Dilek_Yilmaz\\.venv\\Lib\\site-packages\\pandas\\io\\common.py:882\u001b[39m, in \u001b[36mget_handle\u001b[39m\u001b[34m(path_or_buf, mode, encoding, compression, memory_map, is_text, errors, storage_options)\u001b[39m\n\u001b[32m    873\u001b[39m         handle = \u001b[38;5;28mopen\u001b[39m(\n\u001b[32m    874\u001b[39m             handle,\n\u001b[32m    875\u001b[39m             ioargs.mode,\n\u001b[32m   (...)\u001b[39m\u001b[32m    878\u001b[39m             newline=\u001b[33m\"\u001b[39m\u001b[33m\"\u001b[39m,\n\u001b[32m    879\u001b[39m         )\n\u001b[32m    880\u001b[39m     \u001b[38;5;28;01melse\u001b[39;00m:\n\u001b[32m    881\u001b[39m         \u001b[38;5;66;03m# Binary mode\u001b[39;00m\n\u001b[32m--> \u001b[39m\u001b[32m882\u001b[39m         handle = \u001b[38;5;28;43mopen\u001b[39;49m\u001b[43m(\u001b[49m\u001b[43mhandle\u001b[49m\u001b[43m,\u001b[49m\u001b[43m \u001b[49m\u001b[43mioargs\u001b[49m\u001b[43m.\u001b[49m\u001b[43mmode\u001b[49m\u001b[43m)\u001b[49m\n\u001b[32m    883\u001b[39m     handles.append(handle)\n\u001b[32m    885\u001b[39m \u001b[38;5;66;03m# Convert BytesIO or file objects passed with an encoding\u001b[39;00m\n",
      "\u001b[31mFileNotFoundError\u001b[39m: [Errno 2] No such file or directory: 'artifacts/clean_dataset.parquet'"
     ]
    }
   ],
   "source": [
    "import pandas as pd, re\n",
    "\n",
    "# 1) Temiz veri dosyasını oku\n",
    "dfc = pd.read_parquet(\"artifacts/clean_dataset.parquet\")\n",
    "\n",
    "print(\"▶ TEMİZ VERİ ŞEKİLİ:\", dfc.shape)            # (satır, sütun)\n",
    "print(\"▶ SONDAN 5 KOLON:\", list(dfc.columns[-5:]))  # son kolonlar\n",
    "print(\"▶ HEDEF ÖRNEK:\", dfc[\"__target__TedaviSuresi\"].head().tolist())\n",
    "\n",
    "# 2) Multi-label genişleyen sütun sayıları\n",
    "def count_prefix(prefix):\n",
    "    return sum(1 for c in dfc.columns if c.startswith(prefix+\"__\"))\n",
    "\n",
    "for col in [\"KronikHastalik\",\"Alerji\",\"Tanilar\",\"UygulamaYerleri\"]:\n",
    "    print(f\"▶ {col} binary sütun sayısı:\", count_prefix(col))\n",
    "\n",
    "# 3) Kategorik OHE örnekleri (ilk 10 kolon adına bakış)\n",
    "ohe_like = [c for c in dfc.columns if \"__\" not in c and c != \"__target__TedaviSuresi\"]\n",
    "print(\"▶ Olası OHE sütunlarından örnek:\", ohe_like[:10])\n",
    "\n",
    "# 4) Null kontrol (olmamalı):\n",
    "null_sum = dfc.isna().sum().sum()\n",
    "print(\"▶ Toplam NA sayısı:\", int(null_sum))\n",
    "\n",
    "# 5) Sayısal ölçekleme kontrolü (ortalama ~0, std ~1 olmalı) - ilk 5 sayısal kolonda kabaca kontrol\n",
    "num_cols = [c for c in dfc.columns if c != \"__target__TedaviSuresi\" and dfc[c].dtype!='O'][:5]\n",
    "print(\"▶ Ölçek kontrol kolonları:\", num_cols)\n",
    "print(\"▶ Ortalamalar:\", [round(dfc[c].mean(),3) for c in num_cols])\n",
    "print(\"▶ Std'ler:\", [round(dfc[c].std(),3) for c in num_cols])\n"
   ]
  },
  {
   "cell_type": "code",
   "execution_count": 1,
   "id": "1d3cc41e-7945-43f3-bf58-21c3e8b21175",
   "metadata": {},
   "outputs": [
    {
     "data": {
      "text/plain": [
       "((2235, 619),\n",
       " Index(['UygulamaSuresi_40 Dakika', 'UygulamaSuresi_45 Dakika',\n",
       "        'UygulamaSuresi_5 Dakika', 'UygulamaSuresi_8 Dakika',\n",
       "        '__target__TedaviSuresi'],\n",
       "       dtype='object'),\n",
       " 0     5.0\n",
       " 1    15.0\n",
       " 2    15.0\n",
       " 3    15.0\n",
       " 4    15.0\n",
       " Name: __target__TedaviSuresi, dtype: float64)"
      ]
     },
     "execution_count": 1,
     "metadata": {},
     "output_type": "execute_result"
    }
   ],
   "source": [
    "import pandas as pd\n",
    "dfc = pd.read_parquet(\"../artifacts/clean_dataset.parquet\")\n",
    "dfc.shape, dfc.columns[-5:], dfc[\"__target__TedaviSuresi\"].head()\n"
   ]
  },
  {
   "cell_type": "code",
   "execution_count": 3,
   "id": "b91e6e31-784f-4c7a-b914-3a8581694cb3",
   "metadata": {},
   "outputs": [
    {
     "name": "stdout",
     "output_type": "stream",
     "text": [
      "CSV olarak kaydedildi: C:\\Users\\dilek\\Desktop\\Pusula_Dilek_Yilmaz\\artifacts\\clean_dataset.csv\n"
     ]
    }
   ],
   "source": [
    "import pandas as pd\n",
    "\n",
    "parquet_path = r\"C:\\Users\\dilek\\Desktop\\Pusula_Dilek_Yilmaz\\artifacts\\clean_dataset.parquet\"\n",
    "csv_path = r\"C:\\Users\\dilek\\Desktop\\Pusula_Dilek_Yilmaz\\artifacts\\clean_dataset.csv\"\n",
    "\n",
    "pd.read_parquet(parquet_path).to_csv(csv_path, index=False)\n",
    "print(\"CSV olarak kaydedildi:\", csv_path)\n",
    "\n"
   ]
  },
  {
   "cell_type": "code",
   "execution_count": null,
   "id": "c84071d5-078f-4785-90b7-660846873d26",
   "metadata": {},
   "outputs": [],
   "source": []
  }
 ],
 "metadata": {
  "kernelspec": {
   "display_name": ".venv",
   "language": "python",
   "name": ".venv"
  },
  "language_info": {
   "codemirror_mode": {
    "name": "ipython",
    "version": 3
   },
   "file_extension": ".py",
   "mimetype": "text/x-python",
   "name": "python",
   "nbconvert_exporter": "python",
   "pygments_lexer": "ipython3",
   "version": "3.12.0"
  }
 },
 "nbformat": 4,
 "nbformat_minor": 5
}
